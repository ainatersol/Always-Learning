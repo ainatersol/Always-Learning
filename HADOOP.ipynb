{
 "cells": [
  {
   "cell_type": "markdown",
   "id": "64e12fa8",
   "metadata": {},
   "source": [
    "# hadoop is java\n",
    "# spark is scala \n",
    "\n",
    "can be used for working on big data platforms\n",
    "\n",
    "HDFS \n",
    "- data is spit into blocks and  stored and replicated in different nodes\n",
    "- stores data in a cluster \n",
    "\n",
    "MapReduce \n",
    "- is a dataprocessing framework, 2 phases map and reduce. enables data processing in the node "
   ]
  },
  {
   "cell_type": "markdown",
   "id": "2cdab76a",
   "metadata": {},
   "source": [
    "System architecture\n",
    "\n",
    "HDFS\n",
    "\n",
    "large file (100MB+) -> node -> data noes (hadooop cluster) -> file blocks \n",
    "\n",
    "file blcoks are then replicated, each block gets copied at least 3 times "
   ]
  },
  {
   "cell_type": "markdown",
   "id": "81b8d452",
   "metadata": {},
   "source": [
    "MAP REDUCE\n",
    "\n",
    "the map or task is executed on every node that contains the fileblocks we want to process (3 usually)\n",
    "the output are key-value pairs that are sorted copied and merged\n",
    "finally the data is stored in hdfs\n",
    "\n",
    "\n",
    "Mapper\n",
    " - run in parallel\n",
    " - the mapper returns key-value pairs \n",
    " - runs locally on data nodes\n",
    " \n",
    " Reducer\n",
    " - all intermediate values for a intermediate key are given to a reducer (shuffle and sort)\n",
    " - the result is also key-value pairs. on efor each input key "
   ]
  },
  {
   "cell_type": "code",
   "execution_count": null,
   "id": "c677c9e7",
   "metadata": {},
   "outputs": [],
   "source": []
  }
 ],
 "metadata": {
  "kernelspec": {
   "display_name": "Python 3 (ipykernel)",
   "language": "python",
   "name": "python3"
  },
  "language_info": {
   "codemirror_mode": {
    "name": "ipython",
    "version": 3
   },
   "file_extension": ".py",
   "mimetype": "text/x-python",
   "name": "python",
   "nbconvert_exporter": "python",
   "pygments_lexer": "ipython3",
   "version": "3.9.7"
  }
 },
 "nbformat": 4,
 "nbformat_minor": 5
}
