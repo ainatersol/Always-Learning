{
 "cells": [
  {
   "cell_type": "code",
   "execution_count": 10,
   "id": "dc79783a",
   "metadata": {},
   "outputs": [],
   "source": [
    "#/default_exp app"
   ]
  },
  {
   "cell_type": "code",
   "execution_count": 11,
   "id": "366e9ed5",
   "metadata": {
    "scrolled": true
   },
   "outputs": [
    {
     "name": "stdout",
     "output_type": "stream",
     "text": [
      "Collecting nbdev\n",
      "  Downloading nbdev-2.3.12-py3-none-any.whl (64 kB)\n",
      "\u001b[K     |████████████████████████████████| 64 kB 949 kB/s eta 0:00:01\n",
      "\u001b[?25hCollecting asttokens\n",
      "  Downloading asttokens-2.2.1-py2.py3-none-any.whl (26 kB)\n",
      "Collecting execnb>=0.1.4\n",
      "  Downloading execnb-0.1.5-py3-none-any.whl (13 kB)\n",
      "Requirement already satisfied: PyYAML in /Users/aina/opt/anaconda3/lib/python3.9/site-packages (from nbdev) (6.0)\n",
      "Requirement already satisfied: fastcore>=1.5.27 in /Users/aina/opt/anaconda3/lib/python3.9/site-packages (from nbdev) (1.5.29)\n",
      "Requirement already satisfied: watchdog in /Users/aina/opt/anaconda3/lib/python3.9/site-packages (from nbdev) (2.1.3)\n",
      "Requirement already satisfied: astunparse in /Users/aina/opt/anaconda3/lib/python3.9/site-packages (from nbdev) (1.6.3)\n",
      "Collecting ghapi>=1.0.3\n",
      "  Downloading ghapi-1.0.4-py3-none-any.whl (58 kB)\n",
      "\u001b[K     |████████████████████████████████| 58 kB 10.0 MB/s eta 0:00:01\n",
      "\u001b[?25hRequirement already satisfied: ipython in /Users/aina/opt/anaconda3/lib/python3.9/site-packages (from execnb>=0.1.4->nbdev) (7.29.0)\n",
      "Requirement already satisfied: packaging in /Users/aina/opt/anaconda3/lib/python3.9/site-packages (from fastcore>=1.5.27->nbdev) (21.0)\n",
      "Requirement already satisfied: pip in /Users/aina/opt/anaconda3/lib/python3.9/site-packages (from fastcore>=1.5.27->nbdev) (21.2.4)\n",
      "Requirement already satisfied: six in /Users/aina/opt/anaconda3/lib/python3.9/site-packages (from asttokens->nbdev) (1.16.0)\n",
      "Requirement already satisfied: wheel<1.0,>=0.23.0 in /Users/aina/opt/anaconda3/lib/python3.9/site-packages (from astunparse->nbdev) (0.37.0)\n",
      "Requirement already satisfied: prompt-toolkit!=3.0.0,!=3.0.1,<3.1.0,>=2.0.0 in /Users/aina/opt/anaconda3/lib/python3.9/site-packages (from ipython->execnb>=0.1.4->nbdev) (3.0.20)\n",
      "Requirement already satisfied: traitlets>=4.2 in /Users/aina/opt/anaconda3/lib/python3.9/site-packages (from ipython->execnb>=0.1.4->nbdev) (5.1.0)\n",
      "Requirement already satisfied: pickleshare in /Users/aina/opt/anaconda3/lib/python3.9/site-packages (from ipython->execnb>=0.1.4->nbdev) (0.7.5)\n",
      "Requirement already satisfied: backcall in /Users/aina/opt/anaconda3/lib/python3.9/site-packages (from ipython->execnb>=0.1.4->nbdev) (0.2.0)\n",
      "Requirement already satisfied: setuptools>=18.5 in /Users/aina/opt/anaconda3/lib/python3.9/site-packages (from ipython->execnb>=0.1.4->nbdev) (58.0.4)\n",
      "Requirement already satisfied: pexpect>4.3 in /Users/aina/opt/anaconda3/lib/python3.9/site-packages (from ipython->execnb>=0.1.4->nbdev) (4.8.0)\n",
      "Requirement already satisfied: decorator in /Users/aina/opt/anaconda3/lib/python3.9/site-packages (from ipython->execnb>=0.1.4->nbdev) (5.1.0)\n",
      "Requirement already satisfied: jedi>=0.16 in /Users/aina/opt/anaconda3/lib/python3.9/site-packages (from ipython->execnb>=0.1.4->nbdev) (0.18.0)\n",
      "Requirement already satisfied: pygments in /Users/aina/opt/anaconda3/lib/python3.9/site-packages (from ipython->execnb>=0.1.4->nbdev) (2.10.0)\n",
      "Requirement already satisfied: appnope in /Users/aina/opt/anaconda3/lib/python3.9/site-packages (from ipython->execnb>=0.1.4->nbdev) (0.1.2)\n",
      "Requirement already satisfied: matplotlib-inline in /Users/aina/opt/anaconda3/lib/python3.9/site-packages (from ipython->execnb>=0.1.4->nbdev) (0.1.2)\n",
      "Requirement already satisfied: parso<0.9.0,>=0.8.0 in /Users/aina/opt/anaconda3/lib/python3.9/site-packages (from jedi>=0.16->ipython->execnb>=0.1.4->nbdev) (0.8.2)\n",
      "Requirement already satisfied: ptyprocess>=0.5 in /Users/aina/opt/anaconda3/lib/python3.9/site-packages (from pexpect>4.3->ipython->execnb>=0.1.4->nbdev) (0.7.0)\n",
      "Requirement already satisfied: wcwidth in /Users/aina/opt/anaconda3/lib/python3.9/site-packages (from prompt-toolkit!=3.0.0,!=3.0.1,<3.1.0,>=2.0.0->ipython->execnb>=0.1.4->nbdev) (0.2.5)\n",
      "Requirement already satisfied: pyparsing>=2.0.2 in /Users/aina/opt/anaconda3/lib/python3.9/site-packages (from packaging->fastcore>=1.5.27->nbdev) (3.0.4)\n",
      "Installing collected packages: ghapi, execnb, asttokens, nbdev\n",
      "Successfully installed asttokens-2.2.1 execnb-0.1.5 ghapi-1.0.4 nbdev-2.3.12\n"
     ]
    }
   ],
   "source": [
    "!pip install nbdev"
   ]
  },
  {
   "cell_type": "code",
   "execution_count": 8,
   "id": "2ce55360",
   "metadata": {
    "scrolled": true
   },
   "outputs": [
    {
     "name": "stdout",
     "output_type": "stream",
     "text": [
      "Collecting gradio\n",
      "  Using cached gradio-3.40.1-py3-none-any.whl (20.0 MB)\n",
      "Collecting fastapi\n",
      "  Using cached fastapi-0.101.1-py3-none-any.whl (65 kB)\n",
      "Collecting orjson~=3.0\n",
      "  Using cached orjson-3.9.4-cp39-cp39-macosx_10_15_x86_64.macosx_11_0_arm64.macosx_10_15_universal2.whl (246 kB)\n",
      "Collecting importlib-resources<7.0,>=1.3\n",
      "  Using cached importlib_resources-6.0.1-py3-none-any.whl (34 kB)\n",
      "Collecting mdit-py-plugins<=0.3.3\n",
      "  Using cached mdit_py_plugins-0.3.3-py3-none-any.whl (50 kB)\n",
      "Collecting gradio-client>=0.4.0\n",
      "  Using cached gradio_client-0.4.0-py3-none-any.whl (297 kB)\n",
      "Requirement already satisfied: matplotlib~=3.0 in /Users/aina/opt/anaconda3/lib/python3.9/site-packages (from gradio) (3.4.3)\n",
      "Collecting httpx\n",
      "  Using cached httpx-0.24.1-py3-none-any.whl (75 kB)\n",
      "Collecting altair<6.0,>=4.2.0\n",
      "  Using cached altair-5.0.1-py3-none-any.whl (471 kB)\n",
      "Requirement already satisfied: requests~=2.0 in /Users/aina/opt/anaconda3/lib/python3.9/site-packages (from gradio) (2.26.0)\n",
      "Requirement already satisfied: aiohttp~=3.0 in /Users/aina/opt/anaconda3/lib/python3.9/site-packages (from gradio) (3.8.4)\n",
      "Requirement already satisfied: pandas<3.0,>=1.0 in /Users/aina/opt/anaconda3/lib/python3.9/site-packages (from gradio) (1.3.4)\n",
      "Collecting uvicorn>=0.14.0\n",
      "  Using cached uvicorn-0.23.2-py3-none-any.whl (59 kB)\n",
      "Collecting markdown-it-py[linkify]>=2.0.0\n",
      "  Using cached markdown_it_py-3.0.0-py3-none-any.whl (87 kB)\n",
      "Collecting huggingface-hub>=0.14.0\n",
      "  Using cached huggingface_hub-0.16.4-py3-none-any.whl (268 kB)\n",
      "Collecting semantic-version~=2.0\n",
      "  Using cached semantic_version-2.10.0-py2.py3-none-any.whl (15 kB)\n",
      "Collecting websockets<12.0,>=10.0\n",
      "  Using cached websockets-11.0.3-cp39-cp39-macosx_10_9_x86_64.whl (120 kB)\n",
      "Requirement already satisfied: pyyaml<7.0,>=5.0 in /Users/aina/opt/anaconda3/lib/python3.9/site-packages (from gradio) (6.0)\n",
      "Collecting ffmpy\n",
      "  Using cached ffmpy-0.3.1.tar.gz (5.5 kB)\n",
      "Requirement already satisfied: packaging in /Users/aina/opt/anaconda3/lib/python3.9/site-packages (from gradio) (21.0)\n",
      "Collecting aiofiles<24.0,>=22.0\n",
      "  Using cached aiofiles-23.2.1-py3-none-any.whl (15 kB)\n",
      "Requirement already satisfied: numpy~=1.0 in /Users/aina/opt/anaconda3/lib/python3.9/site-packages (from gradio) (1.20.3)\n",
      "Requirement already satisfied: pydantic!=1.8,!=1.8.1,!=2.0.0,!=2.0.1,<3.0.0,>=1.7.4 in /Users/aina/opt/anaconda3/lib/python3.9/site-packages (from gradio) (1.10.11)\n",
      "Collecting markupsafe~=2.0\n",
      "  Using cached MarkupSafe-2.1.3-cp39-cp39-macosx_10_9_x86_64.whl (13 kB)\n",
      "Collecting python-multipart\n",
      "  Using cached python_multipart-0.0.6-py3-none-any.whl (45 kB)\n",
      "Requirement already satisfied: jinja2<4.0 in /Users/aina/opt/anaconda3/lib/python3.9/site-packages (from gradio) (2.11.3)\n",
      "Requirement already satisfied: typing-extensions~=4.0 in /Users/aina/opt/anaconda3/lib/python3.9/site-packages (from gradio) (4.6.3)\n",
      "Requirement already satisfied: pillow<11.0,>=8.0 in /Users/aina/opt/anaconda3/lib/python3.9/site-packages (from gradio) (8.4.0)\n",
      "Collecting pydub\n",
      "  Using cached pydub-0.25.1-py2.py3-none-any.whl (32 kB)\n",
      "Requirement already satisfied: charset-normalizer<4.0,>=2.0 in /Users/aina/opt/anaconda3/lib/python3.9/site-packages (from aiohttp~=3.0->gradio) (2.0.4)\n",
      "Requirement already satisfied: multidict<7.0,>=4.5 in /Users/aina/opt/anaconda3/lib/python3.9/site-packages (from aiohttp~=3.0->gradio) (6.0.4)\n",
      "Requirement already satisfied: yarl<2.0,>=1.0 in /Users/aina/opt/anaconda3/lib/python3.9/site-packages (from aiohttp~=3.0->gradio) (1.8.2)\n",
      "Requirement already satisfied: aiosignal>=1.1.2 in /Users/aina/opt/anaconda3/lib/python3.9/site-packages (from aiohttp~=3.0->gradio) (1.3.1)\n",
      "Requirement already satisfied: attrs>=17.3.0 in /Users/aina/opt/anaconda3/lib/python3.9/site-packages (from aiohttp~=3.0->gradio) (21.2.0)\n",
      "Requirement already satisfied: async-timeout<5.0,>=4.0.0a3 in /Users/aina/opt/anaconda3/lib/python3.9/site-packages (from aiohttp~=3.0->gradio) (4.0.2)\n",
      "Requirement already satisfied: frozenlist>=1.1.1 in /Users/aina/opt/anaconda3/lib/python3.9/site-packages (from aiohttp~=3.0->gradio) (1.3.3)\n",
      "Requirement already satisfied: toolz in /Users/aina/opt/anaconda3/lib/python3.9/site-packages (from altair<6.0,>=4.2.0->gradio) (0.11.1)\n",
      "Requirement already satisfied: jsonschema>=3.0 in /Users/aina/opt/anaconda3/lib/python3.9/site-packages (from altair<6.0,>=4.2.0->gradio) (3.2.0)\n",
      "Requirement already satisfied: fsspec in /Users/aina/opt/anaconda3/lib/python3.9/site-packages (from gradio-client>=0.4.0->gradio) (2023.4.0)\n",
      "Requirement already satisfied: filelock in /Users/aina/opt/anaconda3/lib/python3.9/site-packages (from huggingface-hub>=0.14.0->gradio) (3.3.1)\n",
      "Requirement already satisfied: tqdm>=4.42.1 in /Users/aina/opt/anaconda3/lib/python3.9/site-packages (from huggingface-hub>=0.14.0->gradio) (4.65.0)\n",
      "Requirement already satisfied: zipp>=3.1.0 in /Users/aina/opt/anaconda3/lib/python3.9/site-packages (from importlib-resources<7.0,>=1.3->gradio) (3.6.0)\n",
      "Requirement already satisfied: setuptools in /Users/aina/opt/anaconda3/lib/python3.9/site-packages (from jsonschema>=3.0->altair<6.0,>=4.2.0->gradio) (58.0.4)\n",
      "Requirement already satisfied: six>=1.11.0 in /Users/aina/opt/anaconda3/lib/python3.9/site-packages (from jsonschema>=3.0->altair<6.0,>=4.2.0->gradio) (1.16.0)\n",
      "Requirement already satisfied: pyrsistent>=0.14.0 in /Users/aina/opt/anaconda3/lib/python3.9/site-packages (from jsonschema>=3.0->altair<6.0,>=4.2.0->gradio) (0.18.0)\n",
      "Collecting mdurl~=0.1\n",
      "  Using cached mdurl-0.1.2-py3-none-any.whl (10.0 kB)\n",
      "Collecting linkify-it-py<3,>=1\n",
      "  Using cached linkify_it_py-2.0.2-py3-none-any.whl (19 kB)\n",
      "Collecting uc-micro-py\n",
      "  Using cached uc_micro_py-1.0.2-py3-none-any.whl (6.2 kB)\n",
      "Requirement already satisfied: cycler>=0.10 in /Users/aina/opt/anaconda3/lib/python3.9/site-packages (from matplotlib~=3.0->gradio) (0.10.0)\n",
      "Requirement already satisfied: pyparsing>=2.2.1 in /Users/aina/opt/anaconda3/lib/python3.9/site-packages (from matplotlib~=3.0->gradio) (3.0.4)\n",
      "Requirement already satisfied: python-dateutil>=2.7 in /Users/aina/opt/anaconda3/lib/python3.9/site-packages (from matplotlib~=3.0->gradio) (2.8.2)\n",
      "Requirement already satisfied: kiwisolver>=1.0.1 in /Users/aina/opt/anaconda3/lib/python3.9/site-packages (from matplotlib~=3.0->gradio) (1.3.1)\n",
      "Collecting mdit-py-plugins<=0.3.3\n",
      "  Using cached mdit_py_plugins-0.3.2-py3-none-any.whl (50 kB)\n",
      "  Using cached mdit_py_plugins-0.3.1-py3-none-any.whl (46 kB)\n",
      "  Using cached mdit_py_plugins-0.3.0-py3-none-any.whl (43 kB)\n",
      "  Using cached mdit_py_plugins-0.2.8-py3-none-any.whl (41 kB)\n",
      "  Using cached mdit_py_plugins-0.2.7-py3-none-any.whl (41 kB)\n",
      "  Using cached mdit_py_plugins-0.2.6-py3-none-any.whl (39 kB)\n",
      "  Using cached mdit_py_plugins-0.2.5-py3-none-any.whl (39 kB)\n",
      "  Using cached mdit_py_plugins-0.2.4-py3-none-any.whl (39 kB)\n",
      "  Using cached mdit_py_plugins-0.2.3-py3-none-any.whl (39 kB)\n",
      "  Using cached mdit_py_plugins-0.2.2-py3-none-any.whl (39 kB)\n",
      "  Using cached mdit_py_plugins-0.2.1-py3-none-any.whl (38 kB)\n",
      "  Using cached mdit_py_plugins-0.2.0-py3-none-any.whl (38 kB)\n",
      "  Using cached mdit_py_plugins-0.1.0-py3-none-any.whl (37 kB)\n",
      "INFO: pip is looking at multiple versions of kiwisolver to determine which version is compatible with other requirements. This could take a while.\n",
      "Collecting kiwisolver>=1.0.1\n",
      "  Using cached kiwisolver-1.4.4-cp39-cp39-macosx_10_9_x86_64.whl (65 kB)\n",
      "  Using cached kiwisolver-1.4.3-cp39-cp39-macosx_10_9_x86_64.whl (65 kB)\n",
      "  Using cached kiwisolver-1.4.2-cp39-cp39-macosx_10_9_x86_64.whl (65 kB)\n",
      "  Using cached kiwisolver-1.4.1-cp39-cp39-macosx_10_9_x86_64.whl (65 kB)\n",
      "  Using cached kiwisolver-1.4.0-cp39-cp39-macosx_10_9_x86_64.whl (61 kB)\n",
      "  Using cached kiwisolver-1.3.2-cp39-cp39-macosx_10_9_x86_64.whl (61 kB)\n",
      "  Using cached kiwisolver-1.3.1-cp39-cp39-macosx_10_9_x86_64.whl (61 kB)\n",
      "INFO: pip is looking at multiple versions of kiwisolver to determine which version is compatible with other requirements. This could take a while.\n",
      "  Using cached kiwisolver-1.2.0.tar.gz (52 kB)\n",
      "  Using cached kiwisolver-1.1.0.tar.gz (30 kB)\n",
      "  Using cached kiwisolver-1.0.1.tar.gz (31 kB)\n",
      "INFO: pip is looking at multiple versions of cycler to determine which version is compatible with other requirements. This could take a while.\n"
     ]
    },
    {
     "name": "stdout",
     "output_type": "stream",
     "text": [
      "Collecting cycler>=0.10\n",
      "  Using cached cycler-0.11.0-py3-none-any.whl (6.4 kB)\n",
      "INFO: This is taking longer than usual. You might need to provide the dependency resolver with stricter constraints to reduce runtime. If you want to abort this run, you can press Ctrl + C to do so. To improve how pip performs, tell us what happened here: https://pip.pypa.io/surveys/backtracking\n",
      "  Using cached cycler-0.10.0-py2.py3-none-any.whl (6.5 kB)\n",
      "INFO: pip is looking at multiple versions of matplotlib to determine which version is compatible with other requirements. This could take a while.\n",
      "Collecting matplotlib~=3.0\n",
      "  Using cached matplotlib-3.7.2-cp39-cp39-macosx_10_12_x86_64.whl (7.4 MB)\n",
      "Requirement already satisfied: fonttools>=4.22.0 in /Users/aina/opt/anaconda3/lib/python3.9/site-packages (from matplotlib~=3.0->gradio) (4.25.0)\n",
      "Collecting contourpy>=1.0.1\n",
      "  Using cached contourpy-1.1.0-cp39-cp39-macosx_10_9_x86_64.whl (243 kB)\n",
      "INFO: pip is looking at multiple versions of fonttools to determine which version is compatible with other requirements. This could take a while.\n",
      "Collecting fonttools>=4.22.0\n",
      "  Using cached fonttools-4.42.0-cp39-cp39-macosx_10_9_x86_64.whl (2.2 MB)\n",
      "  Using cached fonttools-4.41.1-cp39-cp39-macosx_10_9_x86_64.whl (2.2 MB)\n",
      "  Using cached fonttools-4.41.0-cp39-cp39-macosx_10_9_x86_64.whl (2.1 MB)\n",
      "  Using cached fonttools-4.40.0-cp39-cp39-macosx_10_9_x86_64.whl (2.1 MB)\n",
      "  Using cached fonttools-4.39.4-py3-none-any.whl (1.0 MB)\n",
      "  Using cached fonttools-4.39.3-py3-none-any.whl (1.0 MB)\n",
      "  Using cached fonttools-4.39.2-py3-none-any.whl (1.0 MB)\n",
      "INFO: pip is looking at multiple versions of fonttools to determine which version is compatible with other requirements. This could take a while.\n",
      "  Using cached fonttools-4.39.0-py3-none-any.whl (1.0 MB)\n",
      "  Using cached fonttools-4.38.0-py3-none-any.whl (965 kB)\n",
      "  Using cached fonttools-4.37.4-py3-none-any.whl (960 kB)\n",
      "  Using cached fonttools-4.37.3-py3-none-any.whl (959 kB)\n",
      "  Using cached fonttools-4.37.2-py3-none-any.whl (959 kB)\n",
      "INFO: This is taking longer than usual. You might need to provide the dependency resolver with stricter constraints to reduce runtime. If you want to abort this run, you can press Ctrl + C to do so. To improve how pip performs, tell us what happened here: https://pip.pypa.io/surveys/backtracking\n",
      "  Using cached fonttools-4.37.1-py3-none-any.whl (957 kB)\n",
      "  Using cached fonttools-4.37.0-py3-none-any.whl (956 kB)\n",
      "  Using cached fonttools-4.36.0-py3-none-any.whl (950 kB)\n",
      "  Using cached fonttools-4.35.0-py3-none-any.whl (947 kB)\n",
      "  Using cached fonttools-4.34.4-py3-none-any.whl (944 kB)\n",
      "  Using cached fonttools-4.34.3-py3-none-any.whl (944 kB)\n",
      "  Using cached fonttools-4.34.2-py3-none-any.whl (944 kB)\n",
      "  Using cached fonttools-4.34.1-py3-none-any.whl (943 kB)\n",
      "  Using cached fonttools-4.34.0-py3-none-any.whl (943 kB)\n",
      "  Using cached fonttools-4.33.3-py3-none-any.whl (930 kB)\n",
      "  Using cached fonttools-4.33.2-py3-none-any.whl (930 kB)\n",
      "  Using cached fonttools-4.33.1-py3-none-any.whl (930 kB)\n",
      "  Using cached fonttools-4.33.0-py3-none-any.whl (929 kB)\n",
      "  Using cached fonttools-4.32.0-py3-none-any.whl (900 kB)\n",
      "  Using cached fonttools-4.31.2-py3-none-any.whl (899 kB)\n",
      "  Using cached fonttools-4.31.1-py3-none-any.whl (899 kB)\n",
      "  Using cached fonttools-4.31.0-py3-none-any.whl (899 kB)\n",
      "  Using cached fonttools-4.30.0-py3-none-any.whl (898 kB)\n",
      "  Using cached fonttools-4.29.1-py3-none-any.whl (895 kB)\n",
      "  Using cached fonttools-4.29.0-py3-none-any.whl (895 kB)\n",
      "  Using cached fonttools-4.28.5-py3-none-any.whl (890 kB)\n",
      "  Using cached fonttools-4.28.4-py3-none-any.whl (885 kB)\n",
      "  Using cached fonttools-4.28.3-py3-none-any.whl (884 kB)\n",
      "  Using cached fonttools-4.28.2-py3-none-any.whl (880 kB)\n",
      "  Using cached fonttools-4.28.1-py3-none-any.whl (873 kB)\n",
      "  Using cached fonttools-4.28.0-py3-none-any.whl (873 kB)\n",
      "  Using cached fonttools-4.27.1-py3-none-any.whl (869 kB)\n",
      "  Using cached fonttools-4.27.0-py3-none-any.whl (869 kB)\n",
      "  Using cached fonttools-4.26.2-py3-none-any.whl (870 kB)\n",
      "  Using cached fonttools-4.26.1-py3-none-any.whl (870 kB)\n",
      "  Using cached fonttools-4.26.0-py3-none-any.whl (870 kB)\n",
      "  Using cached fonttools-4.25.2-py3-none-any.whl (868 kB)\n",
      "  Using cached fonttools-4.25.1-py3-none-any.whl (868 kB)\n",
      "  Using cached fonttools-4.25.0-py3-none-any.whl (867 kB)\n",
      "  Using cached fonttools-4.24.4-py3-none-any.whl (854 kB)\n",
      "  Using cached fonttools-4.24.3-py3-none-any.whl (854 kB)\n",
      "  Using cached fonttools-4.24.2-py3-none-any.whl (853 kB)\n",
      "  Using cached fonttools-4.24.1-py3-none-any.whl (853 kB)\n",
      "  Using cached fonttools-4.24.0-py3-none-any.whl (853 kB)\n",
      "  Using cached fonttools-4.23.1-py3-none-any.whl (853 kB)\n",
      "  Using cached fonttools-4.23.0-py3-none-any.whl (852 kB)\n",
      "  Using cached fonttools-4.22.1-py3-none-any.whl (850 kB)\n",
      "  Using cached fonttools-4.22.0-py3-none-any.whl (850 kB)\n",
      "INFO: pip is looking at multiple versions of contourpy to determine which version is compatible with other requirements. This could take a while.\n",
      "Collecting contourpy>=1.0.1\n",
      "  Using cached contourpy-1.0.7-cp39-cp39-macosx_10_9_x86_64.whl (244 kB)\n",
      "INFO: pip is looking at multiple versions of cycler to determine which version is compatible with other requirements. This could take a while.\n",
      "  Using cached contourpy-1.0.6-cp39-cp39-macosx_10_9_x86_64.whl (240 kB)\n",
      "  Using cached contourpy-1.0.5-cp39-cp39-macosx_10_9_x86_64.whl (241 kB)\n",
      "INFO: This is taking longer than usual. You might need to provide the dependency resolver with stricter constraints to reduce runtime. If you want to abort this run, you can press Ctrl + C to do so. To improve how pip performs, tell us what happened here: https://pip.pypa.io/surveys/backtracking\n",
      "  Using cached contourpy-1.0.4-cp39-cp39-macosx_10_9_x86_64.whl (235 kB)\n",
      "  Using cached contourpy-1.0.3-cp39-cp39-macosx_10_9_x86_64.whl (233 kB)\n",
      "  Using cached contourpy-1.0.2-cp39-cp39-macosx_10_9_x86_64.whl (231 kB)\n",
      "  Using cached contourpy-1.0.1-cp39-cp39-macosx_10_9_x86_64.whl (231 kB)\n",
      "INFO: pip is looking at multiple versions of contourpy to determine which version is compatible with other requirements. This could take a while.\n",
      "Collecting matplotlib~=3.0\n",
      "  Using cached matplotlib-3.7.1-cp39-cp39-macosx_10_12_x86_64.whl (7.4 MB)\n",
      "^C\n",
      "\u001b[31mERROR: Operation cancelled by user\u001b[0m\n"
     ]
    }
   ],
   "source": [
    "!pip install gradio"
   ]
  },
  {
   "cell_type": "code",
   "execution_count": 25,
   "id": "ae604219",
   "metadata": {
    "scrolled": true
   },
   "outputs": [],
   "source": [
    "#/export\n",
    "from fastai.vision.all import *\n",
    "# import gradio as gr\n",
    "import nbdev\n",
    "def is_hotdog(x): return x[0].isupper()"
   ]
  },
  {
   "cell_type": "code",
   "execution_count": 26,
   "id": "59bcb4d1",
   "metadata": {},
   "outputs": [],
   "source": [
    "#/export\n",
    "learn = load_learner('hotdog.pkl')"
   ]
  },
  {
   "cell_type": "code",
   "execution_count": 27,
   "id": "ebce1e64",
   "metadata": {},
   "outputs": [
    {
     "data": {
      "text/html": [
       "\n",
       "<style>\n",
       "    /* Turns off some styling */\n",
       "    progress {\n",
       "        /* gets rid of default border in Firefox and Opera. */\n",
       "        border: none;\n",
       "        /* Needs to be in here for Safari polyfill so background images work as expected. */\n",
       "        background-size: auto;\n",
       "    }\n",
       "    progress:not([value]), progress:not([value])::-webkit-progress-bar {\n",
       "        background: repeating-linear-gradient(45deg, #7e7e7e, #7e7e7e 10px, #5c5c5c 10px, #5c5c5c 20px);\n",
       "    }\n",
       "    .progress-bar-interrupted, .progress-bar-interrupted::-webkit-progress-bar {\n",
       "        background: #F44336;\n",
       "    }\n",
       "</style>\n"
      ],
      "text/plain": [
       "<IPython.core.display.HTML object>"
      ]
     },
     "metadata": {},
     "output_type": "display_data"
    },
    {
     "data": {
      "text/html": [],
      "text/plain": [
       "<IPython.core.display.HTML object>"
      ]
     },
     "metadata": {},
     "output_type": "display_data"
    },
    {
     "name": "stdout",
     "output_type": "stream",
     "text": [
      "CPU times: user 201 ms, sys: 26.8 ms, total: 227 ms\n",
      "Wall time: 47.6 ms\n"
     ]
    },
    {
     "data": {
      "text/plain": [
       "('pasta',\n",
       " tensor(1),\n",
       " tensor([3.4488e-01, 6.5426e-01, 1.0304e-04, 1.0432e-04, 6.4568e-04]))"
      ]
     },
     "execution_count": 27,
     "metadata": {},
     "output_type": "execute_result"
    }
   ],
   "source": [
    "im = PILImage.create('hotdog.jpg')\n",
    "im.thumbnail((192, 192))\n",
    "%time learn.predict(im)"
   ]
  },
  {
   "cell_type": "code",
   "execution_count": 18,
   "id": "7ca78a95",
   "metadata": {},
   "outputs": [],
   "source": [
    "#/export\n",
    "categories = ('hotdog', 'pasta', 'pizza', 'salad', 'sandwich')\n",
    "\n",
    "def classify_images(img):\n",
    "    pred, idx, probs = learn.predict(img)\n",
    "    return dict(zip(categories, map(float, probs))) #gradio interface expects a dictionary"
   ]
  },
  {
   "cell_type": "code",
   "execution_count": 19,
   "id": "6c6ff3cf",
   "metadata": {},
   "outputs": [
    {
     "ename": "NameError",
     "evalue": "name 'gr' is not defined",
     "output_type": "error",
     "traceback": [
      "\u001b[0;31m---------------------------------------------------------------------------\u001b[0m",
      "\u001b[0;31mNameError\u001b[0m                                 Traceback (most recent call last)",
      "\u001b[0;32m/var/folders/fy/m2y3wbmn1lbcwm2rl2s60d_h0000gp/T/ipykernel_34052/1024752814.py\u001b[0m in \u001b[0;36m<module>\u001b[0;34m\u001b[0m\n\u001b[1;32m      1\u001b[0m \u001b[0;31m#/export\u001b[0m\u001b[0;34m\u001b[0m\u001b[0;34m\u001b[0m\u001b[0m\n\u001b[0;32m----> 2\u001b[0;31m \u001b[0mimage\u001b[0m \u001b[0;34m=\u001b[0m \u001b[0mgr\u001b[0m\u001b[0;34m.\u001b[0m\u001b[0minputs\u001b[0m\u001b[0;34m.\u001b[0m\u001b[0mImage\u001b[0m\u001b[0;34m(\u001b[0m\u001b[0mshape\u001b[0m\u001b[0;34m=\u001b[0m\u001b[0;34m(\u001b[0m\u001b[0;36m192\u001b[0m\u001b[0;34m,\u001b[0m\u001b[0;36m192\u001b[0m\u001b[0;34m)\u001b[0m\u001b[0;34m)\u001b[0m\u001b[0;34m\u001b[0m\u001b[0;34m\u001b[0m\u001b[0m\n\u001b[0m\u001b[1;32m      3\u001b[0m \u001b[0mlabel\u001b[0m \u001b[0;34m=\u001b[0m \u001b[0mgr\u001b[0m\u001b[0;34m.\u001b[0m\u001b[0moutputs\u001b[0m\u001b[0;34m.\u001b[0m\u001b[0mLabel\u001b[0m\u001b[0;34m(\u001b[0m\u001b[0;34m)\u001b[0m\u001b[0;34m\u001b[0m\u001b[0;34m\u001b[0m\u001b[0m\n\u001b[1;32m      4\u001b[0m \u001b[0mexamples\u001b[0m \u001b[0;34m=\u001b[0m \u001b[0;34m[\u001b[0m\u001b[0;34mf'{c}.jpg'\u001b[0m \u001b[0;32mfor\u001b[0m \u001b[0mc\u001b[0m \u001b[0;32min\u001b[0m \u001b[0mcategories\u001b[0m\u001b[0;34m]\u001b[0m\u001b[0;34m\u001b[0m\u001b[0;34m\u001b[0m\u001b[0m\n\u001b[1;32m      5\u001b[0m \u001b[0;34m\u001b[0m\u001b[0m\n",
      "\u001b[0;31mNameError\u001b[0m: name 'gr' is not defined"
     ]
    }
   ],
   "source": [
    "#/export \n",
    "image = gr.inputs.Image(shape=(192,192))\n",
    "label = gr.outputs.Label()\n",
    "examples = [f'{c}.jpg' for c in categories]\n",
    "\n",
    "\n",
    "intf = gr.Interface(fn=classify_images, inputs=image, outputs=label, examples=examples)\n",
    "intf.launch()"
   ]
  },
  {
   "cell_type": "markdown",
   "id": "5d3ece6b",
   "metadata": {},
   "source": [
    "# export notebook"
   ]
  },
  {
   "cell_type": "code",
   "execution_count": 38,
   "id": "df4bdfcd",
   "metadata": {},
   "outputs": [
    {
     "ename": "NameError",
     "evalue": "name 'notebook2script' is not defined",
     "output_type": "error",
     "traceback": [
      "\u001b[0;31m---------------------------------------------------------------------------\u001b[0m",
      "\u001b[0;31mNameError\u001b[0m                                 Traceback (most recent call last)",
      "\u001b[0;32m/var/folders/fy/m2y3wbmn1lbcwm2rl2s60d_h0000gp/T/ipykernel_34052/2121908014.py\u001b[0m in \u001b[0;36m<module>\u001b[0;34m\u001b[0m\n\u001b[0;32m----> 1\u001b[0;31m \u001b[0mnotebook2script\u001b[0m\u001b[0;34m(\u001b[0m\u001b[0;34m'app.ipynb'\u001b[0m\u001b[0;34m)\u001b[0m\u001b[0;34m\u001b[0m\u001b[0;34m\u001b[0m\u001b[0m\n\u001b[0m",
      "\u001b[0;31mNameError\u001b[0m: name 'notebook2script' is not defined"
     ]
    }
   ],
   "source": [
    "notebook2script('app.ipynb')"
   ]
  },
  {
   "cell_type": "code",
   "execution_count": null,
   "id": "bd8cbe60",
   "metadata": {},
   "outputs": [],
   "source": []
  },
  {
   "cell_type": "code",
   "execution_count": null,
   "id": "b509e035",
   "metadata": {},
   "outputs": [],
   "source": []
  }
 ],
 "metadata": {
  "kernelspec": {
   "display_name": "Python 3 (ipykernel)",
   "language": "python",
   "name": "python3"
  },
  "language_info": {
   "codemirror_mode": {
    "name": "ipython",
    "version": 3
   },
   "file_extension": ".py",
   "mimetype": "text/x-python",
   "name": "python",
   "nbconvert_exporter": "python",
   "pygments_lexer": "ipython3",
   "version": "3.9.7"
  }
 },
 "nbformat": 4,
 "nbformat_minor": 5
}
