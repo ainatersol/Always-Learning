{
 "cells": [
  {
   "cell_type": "code",
   "execution_count": 1,
   "id": "7f981e27",
   "metadata": {},
   "outputs": [],
   "source": [
    "import numpy as np\n",
    "from scipy import linalg"
   ]
  },
  {
   "cell_type": "code",
   "execution_count": 4,
   "id": "4b476996",
   "metadata": {},
   "outputs": [],
   "source": [
    "#Eignevalues and Eigenvectors\n",
    "test_rating_data = np.array([[5,8],[7,9]])#matrix\n",
    "eigenValues, eigenVector = linalg.eig(test_rating_data)\n",
    "first_eigen, second_eigen = eigenValues"
   ]
  },
  {
   "cell_type": "code",
   "execution_count": 5,
   "id": "db41a67f",
   "metadata": {},
   "outputs": [
    {
     "name": "stdout",
     "output_type": "stream",
     "text": [
      "(-0.745966692414834+0j) (14.745966692414834+0j)\n"
     ]
    }
   ],
   "source": [
    "print(first_eigen, second_eigen)"
   ]
  },
  {
   "cell_type": "code",
   "execution_count": 6,
   "id": "c3ba6f20",
   "metadata": {},
   "outputs": [
    {
     "name": "stdout",
     "output_type": "stream",
     "text": [
      "[[-0.81220939 -0.63447346]\n",
      " [ 0.58336601 -0.77294465]]\n"
     ]
    }
   ],
   "source": [
    "print(eigenVector) # each column is one vector "
   ]
  },
  {
   "cell_type": "code",
   "execution_count": 7,
   "id": "551f16e3",
   "metadata": {},
   "outputs": [],
   "source": [
    "# STATISTICS\n",
    "## linregress()\n",
    "## describe()\n",
    "## normaltest()\n",
    "\n",
    "# PDF is the derivative of the CDF for a continuous variable. \n",
    "# CDF = cummulative distribution function \n",
    "# PDF = probability density function"
   ]
  },
  {
   "cell_type": "code",
   "execution_count": 9,
   "id": "9830cb39",
   "metadata": {},
   "outputs": [],
   "source": [
    "from scipy.stats import norm"
   ]
  },
  {
   "cell_type": "code",
   "execution_count": 10,
   "id": "6b46459d",
   "metadata": {},
   "outputs": [
    {
     "data": {
      "text/plain": [
       "array([-1.86095713,  0.99599031, -1.40733923,  2.37774388, -1.95558574,\n",
       "        0.64447441,  0.27252108,  0.04233873,  0.29286569, -0.3065853 ])"
      ]
     },
     "execution_count": 10,
     "metadata": {},
     "output_type": "execute_result"
    }
   ],
   "source": [
    "norm.rvs(loc=0, scale=1,size=10) #rvs = random variable"
   ]
  },
  {
   "cell_type": "code",
   "execution_count": 11,
   "id": "eb639873",
   "metadata": {},
   "outputs": [
    {
     "data": {
      "text/plain": [
       "0.9772498680518208"
      ]
     },
     "execution_count": 11,
     "metadata": {},
     "output_type": "execute_result"
    }
   ],
   "source": [
    "norm.cdf(5, loc=1,scale=2) #loc = location and scale of the distribution"
   ]
  },
  {
   "cell_type": "code",
   "execution_count": 12,
   "id": "e5b72042",
   "metadata": {},
   "outputs": [
    {
     "data": {
      "text/plain": [
       "1.0279773571668917e-18"
      ]
     },
     "execution_count": 12,
     "metadata": {},
     "output_type": "execute_result"
    }
   ],
   "source": [
    "norm.pdf(9, loc=0,scale=1)"
   ]
  },
  {
   "cell_type": "code",
   "execution_count": 1,
   "id": "80a01405",
   "metadata": {},
   "outputs": [],
   "source": [
    "# WEAVE PACKAGE -. TO COMBINE WITH C/C++ CODE WHICH IS FASTER\n",
    "# inline - executes c/c++ code on the fly \n",
    "# blitz - compiles numpy expressions"
   ]
  },
  {
   "cell_type": "markdown",
   "id": "e53e482b",
   "metadata": {},
   "source": [
    "Quizz : The stats.t.rvs() function is used to generate random variables. stats.t.pmf() function is used to generate probability of mass function, and stats.t.pdf() is used to generate probability density function. Note that stats.t.r and () does not exist."
   ]
  },
  {
   "cell_type": "code",
   "execution_count": null,
   "id": "7a7a0f09",
   "metadata": {},
   "outputs": [],
   "source": []
  }
 ],
 "metadata": {
  "kernelspec": {
   "display_name": "Python 3 (ipykernel)",
   "language": "python",
   "name": "python3"
  },
  "language_info": {
   "codemirror_mode": {
    "name": "ipython",
    "version": 3
   },
   "file_extension": ".py",
   "mimetype": "text/x-python",
   "name": "python",
   "nbconvert_exporter": "python",
   "pygments_lexer": "ipython3",
   "version": "3.9.7"
  }
 },
 "nbformat": 4,
 "nbformat_minor": 5
}
