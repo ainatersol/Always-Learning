{
 "cells": [
  {
   "cell_type": "markdown",
   "metadata": {
    "collapsed": true
   },
   "source": [
    "<img src=\"http://cfs22.simplicdn.net/ice9/new_logo.svgz \"/>\n",
    "\n",
    "# Assignment 02: Perform CDF and PDF\n",
    "\n",
    "*The comments/sections provided are your cues to perform the assignment. You don't need to limit yourself to the number of rows/cells provided. You can add additional rows in each section to add more lines of code.*\n",
    "\n",
    "*If at any point in time you need help on solving this assignment, view our demo video to understand the different steps of the code.*\n",
    "\n",
    "**Happy coding!**\n",
    "\n",
    "Use SciPy to declare 20 random values for random values and perform the following:\n",
    "\n",
    "1. CDF – Cumulative Distribution Function for 10 random variables.\n",
    "\n",
    "2. PDF – Probability Density Function for 14 random variables.\n",
    "\n",
    "* * *"
   ]
  },
  {
   "cell_type": "markdown",
   "metadata": {},
   "source": [
    "#### 1: Import required library\n"
   ]
  },
  {
   "cell_type": "code",
   "execution_count": 5,
   "metadata": {},
   "outputs": [],
   "source": [
    "import numpy as np\n",
    "from scipy import linalg\n",
    "from scipy.stats import norm"
   ]
  },
  {
   "cell_type": "markdown",
   "metadata": {},
   "source": [
    "#### 2: Perfrom Cumulative Distribution Function or CDF on variables, with loc 1 and scale 3\n"
   ]
  },
  {
   "cell_type": "code",
   "execution_count": 22,
   "metadata": {},
   "outputs": [
    {
     "name": "stdout",
     "output_type": "stream",
     "text": [
      "Random variables: [-6.77553714 -2.04984622 -0.35357536  2.22223763 -0.91315331  5.51151174\n",
      " -1.24179274  5.93335196  1.94497103  0.27189875 -4.54015151  1.24778465\n",
      "  1.06079671 -3.15447946 -1.94815819  1.27593479  2.39593199  0.84474619\n",
      " -2.35110967  2.70188231]\n",
      "\n",
      "CDF: 0.9986501019683699\n",
      "\n",
      "PDF: 1.1123620798546141e-05\n",
      "\n"
     ]
    }
   ],
   "source": [
    "#Declare 20 random variables \n",
    "\n",
    "a = norm.rvs(loc= 1, scale= 3, size=20)\n",
    "b = norm.cdf(10, loc= 1, scale= 3)\n",
    "c = norm.pdf(14, loc= 1, scale= 3)\n",
    "\n",
    "print(f'Random variables: {a}\\n')\n",
    "print(f'CDF: {b}\\n')\n",
    "print(f'PDF: {c}\\n')"
   ]
  },
  {
   "cell_type": "markdown",
   "metadata": {
    "collapsed": true
   },
   "source": [
    "#### 3: Perfrom Probability Density Function or PDF on variables, with loc 1 and scale 1"
   ]
  },
  {
   "cell_type": "code",
   "execution_count": 21,
   "metadata": {},
   "outputs": [
    {
     "name": "stdout",
     "output_type": "stream",
     "text": [
      "CDF: 0.9986501019683699\n",
      "\n",
      "PDF: 1.1123620798546141e-05\n",
      "\n"
     ]
    }
   ],
   "source": [
    "b = norm.cdf(10, loc= 1, scale= 3)\n",
    "c = norm.pdf(14, loc= 1, scale= 3)\n",
    "\n",
    "print(f'CDF: {b}\\n')\n",
    "print(f'PDF: {c}\\n')"
   ]
  },
  {
   "cell_type": "code",
   "execution_count": null,
   "metadata": {},
   "outputs": [],
   "source": []
  }
 ],
 "metadata": {
  "kernelspec": {
   "display_name": "Python 3 (ipykernel)",
   "language": "python",
   "name": "python3"
  },
  "language_info": {
   "codemirror_mode": {
    "name": "ipython",
    "version": 3
   },
   "file_extension": ".py",
   "mimetype": "text/x-python",
   "name": "python",
   "nbconvert_exporter": "python",
   "pygments_lexer": "ipython3",
   "version": "3.9.7"
  }
 },
 "nbformat": 4,
 "nbformat_minor": 1
}
