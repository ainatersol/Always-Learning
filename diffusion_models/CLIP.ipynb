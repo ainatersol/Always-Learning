{
 "cells": [
  {
   "cell_type": "code",
   "execution_count": 3,
   "id": "401a9d61",
   "metadata": {},
   "outputs": [],
   "source": [
    "import numpy as np\n",
    "import pandas as pd\n",
    "# import kaggle"
   ]
  },
  {
   "cell_type": "code",
   "execution_count": 2,
   "id": "c297b836",
   "metadata": {},
   "outputs": [],
   "source": [
    "# !kaggle datasets download -d vuppalaadithyasairam/bone-fracture-detection-using-xrays\n",
    "# !unzip Data/bone-fracture-detection-using-xrays.zip"
   ]
  },
  {
   "cell_type": "code",
   "execution_count": 14,
   "id": "0093e56d",
   "metadata": {},
   "outputs": [],
   "source": [
    "from typing import List\n",
    "from torch.utils.data import Dataset, DataLoader\n",
    "import torch.functional as F\n",
    "import os \n",
    "from PIL import Image\n",
    "\n",
    "class FractureDataset(Dataset):\n",
    "\n",
    "    def __init__(self, val=False):\n",
    "        super.__init__\n",
    "        self.directory = 'Data/train/'\n",
    "        self.abnormal_img_dir = os.listdir(self.directory + 'fractured/')\n",
    "        self.normal_img_dir = os.listdir(self.directory + 'not fractured/')\n",
    "        self.lbls = ['fractured'] * len(self.abnormal_img_dir) + ['not fractured'] * len(self.normal_img_dir)\n",
    "        self.img_ids = self.abnormal_img_dir + self.normal_img_dir\n",
    "    \n",
    "    def __getitem__(self, idx) -> tuple:\n",
    "        lbl = self.lbls[idx]\n",
    "        img = Image.open(self.directory + lbl + '/' + self.img_ids[idx])\n",
    "        return img, lbl\n",
    "    \n",
    "    def __len__(self):\n",
    "        return len(self.img_ids)\n",
    "\n",
    "    \n"
   ]
  },
  {
   "cell_type": "code",
   "execution_count": 15,
   "id": "4d3807a7",
   "metadata": {},
   "outputs": [],
   "source": [
    "# create dataset \n",
    "dataset = FractureDataset()"
   ]
  },
  {
   "cell_type": "code",
   "execution_count": 16,
   "id": "2951a1a3",
   "metadata": {},
   "outputs": [
    {
     "data": {
      "text/plain": [
       "(<PIL.JpegImagePlugin.JpegImageFile image mode=RGB size=224x224 at 0x7F8EEC30CD00>,\n",
       " 'fractured')"
      ]
     },
     "execution_count": 16,
     "metadata": {},
     "output_type": "execute_result"
    }
   ],
   "source": [
    "dataset.__getitem__(1)"
   ]
  },
  {
   "cell_type": "code",
   "execution_count": null,
   "id": "892569cc",
   "metadata": {},
   "outputs": [],
   "source": [
    "# training algo, embedding + contrastive loss"
   ]
  }
 ],
 "metadata": {
  "kernelspec": {
   "display_name": "Python 3 (ipykernel)",
   "language": "python",
   "name": "python3"
  },
  "language_info": {
   "codemirror_mode": {
    "name": "ipython",
    "version": 3
   },
   "file_extension": ".py",
   "mimetype": "text/x-python",
   "name": "python",
   "nbconvert_exporter": "python",
   "pygments_lexer": "ipython3",
   "version": "3.9.7"
  }
 },
 "nbformat": 4,
 "nbformat_minor": 5
}
