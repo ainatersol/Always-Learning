{
 "cells": [
  {
   "cell_type": "code",
   "execution_count": 2,
   "metadata": {},
   "outputs": [
    {
     "name": "stderr",
     "output_type": "stream",
     "text": [
      "2023-08-19 07:55:30.293678: I tensorflow/core/platform/cpu_feature_guard.cc:193] This TensorFlow binary is optimized with oneAPI Deep Neural Network Library (oneDNN) to use the following CPU instructions in performance-critical operations:  AVX2 FMA\n",
      "To enable them in other operations, rebuild TensorFlow with the appropriate compiler flags.\n"
     ]
    }
   ],
   "source": [
    "from transformers import TrainingArguments, Trainer\n",
    "from transformers import AutoModelForSequenceClassification, AutoTokenizer\n",
    "from datasets import Dataset, DatasetDict"
   ]
  },
  {
   "cell_type": "code",
   "execution_count": null,
   "metadata": {},
   "outputs": [],
   "source": [
    "DEVICE = 'cuda' if "
   ]
  },
  {
   "cell_type": "code",
   "execution_count": 11,
   "metadata": {},
   "outputs": [],
   "source": [
    "DEVICE = 'cpu'\n",
    "\n",
    "class TrainingConfig():\n",
    "    def __init__(self):\n",
    "\n",
    "        self.output_dir = 'outputs'\n",
    "        self.learning_rate = 3e-4\n",
    "        self.lr_scheduler_type = 'cosine'\n",
    "        self.warmup_ratio = 0.1\n",
    "        self.fp16 = True if DEVICE == 'cuda' else False\n",
    "        self.evaluation_strategy = 'epoch'\n",
    "        self.per_device_train_batch_size = 128\n",
    "        self.per_device_eval_batch_size =  self.per_device_train_batch_size * 2\n",
    "        self.num_train_epochs = 20\n",
    "        self.weight_decay = 0.01\n",
    "        self.report_to = 'none'\n",
    "\n",
    "CFG =  TrainingConfig()"
   ]
  },
  {
   "cell_type": "code",
   "execution_count": null,
   "metadata": {},
   "outputs": [],
   "source": [
    "ds = Dataset.from_pandas(df)\n",
    "model = 'microsoft/deberta-v3-small'\n",
    "tokz = AutoTokenizer.from_pretrained(model)"
   ]
  },
  {
   "cell_type": "code",
   "execution_count": 12,
   "metadata": {},
   "outputs": [],
   "source": [
    "args = TrainingArguments(**CFG.__dict__)"
   ]
  },
  {
   "cell_type": "code",
   "execution_count": null,
   "metadata": {},
   "outputs": [],
   "source": [
    "model = AutoModelForClassification.from_pretrained(model, num_labels=1)\n",
    "trainer = Trainer(model, args, train_dataset=train_ds, eval_dataset=eval_ds, tokenizer=tokz)"
   ]
  }
 ],
 "metadata": {
  "kernelspec": {
   "display_name": "base",
   "language": "python",
   "name": "python3"
  },
  "language_info": {
   "codemirror_mode": {
    "name": "ipython",
    "version": 3
   },
   "file_extension": ".py",
   "mimetype": "text/x-python",
   "name": "python",
   "nbconvert_exporter": "python",
   "pygments_lexer": "ipython3",
   "version": "3.9.7"
  },
  "orig_nbformat": 4
 },
 "nbformat": 4,
 "nbformat_minor": 2
}
